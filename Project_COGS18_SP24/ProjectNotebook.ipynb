{
 "cells": [
  {
   "cell_type": "markdown",
   "metadata": {},
   "source": [
    "# Project Description"
   ]
  },
  {
   "cell_type": "markdown",
   "metadata": {},
   "source": [
    "For my project, I wanted to create an interactive story in the form of a text-based game inspired by a nightmare I had during finals week. I drew from concepts in A3 (Chatbots) and A4 (Artificial Agents) in order to make a game that takes continuous input from the user and making a grid containing objects that move within it. I created this game to serve as a story-telling medium, but wanted to implement a knowledge-testing concept that could be useful to students like me. \n",
    "\n",
    "### GamePlay\n",
    "The premise of this game is that the player is caught in a dream which forces them to answer calculus questions in order to escape the night before their final. \n",
    "\n",
    "1. After reading an introduction to the game, the player is prompted to customize their character, chosen from a default set of symbols, which will indicate their position on the map. \n",
    "2. The player chooses a difficulty (Easy, Medium, or Hard), which will determine the size of the map they play on (Easy = 5x5, Medium = 15x15, Hard = 25x25)\n",
    "3. The player's goal is to navigate this map in order to reach an exit denoted by the \"‡\" symbol. \n",
    "4. Each time the player makes a move, there is a 50% chance that they will be asked a calculus problem, and cannot progress until they provide the correct answer. \n",
    "5. When the player successfully reaches the exit, the game ends with a congratulatory message. \n",
    "\n",
    "\n",
    "#### Note:\n",
    "I coded and ran this project in VSCode because I had problems with continuous input via the console in Datahub.\n",
    "\n",
    "The game's graphics and input system work better if the following code is ran in the VSCode console."
   ]
  },
  {
   "cell_type": "markdown",
   "metadata": {},
   "source": [
    "## Project Code\n",
    "\n",
    "If it makes sense for your project, you can have code and outputs here in the notebook as well."
   ]
  },
  {
   "cell_type": "code",
   "execution_count": null,
   "metadata": {},
   "outputs": [],
   "source": [
    "from my_module.functions import start_game"
   ]
  },
  {
   "cell_type": "code",
   "execution_count": null,
   "metadata": {},
   "outputs": [],
   "source": [
    "#Run this cell to play game\n",
    "start_game()"
   ]
  },
  {
   "cell_type": "code",
   "execution_count": 5,
   "metadata": {},
   "outputs": [
    {
     "name": "stdout",
     "output_type": "stream",
     "text": [
      "\u001b[1m============================= test session starts ==============================\u001b[0m\n",
      "platform darwin -- Python 3.11.7, pytest-7.4.0, pluggy-1.0.0\n",
      "rootdir: /Users/lexa/Downloads/Project_COGS18_SP24\n",
      "plugins: anyio-4.2.0\n",
      "collected 6 items                                                              \u001b[0m\n",
      "\n",
      "test_functions.py \u001b[32m.\u001b[0m\u001b[32m.\u001b[0m\u001b[32m.\u001b[0m\u001b[32m.\u001b[0m\u001b[32m.\u001b[0m\u001b[32m.\u001b[0m\u001b[32m                                                 [100%]\u001b[0m\n",
      "\n",
      "\u001b[32m============================== \u001b[32m\u001b[1m6 passed\u001b[0m\u001b[32m in 0.13s\u001b[0m\u001b[32m ===============================\u001b[0m\n"
     ]
    }
   ],
   "source": [
    "!pytest"
   ]
  },
  {
   "cell_type": "markdown",
   "metadata": {},
   "source": [
    "#### Extra Credit (*optional*)\n",
    "\n",
    "I have been coding since childhood–mostly just messing around in the linux command line and developer mode in video games. In high school, I took classes which taught javascript and C++, but I never went in-depth into python until I took this course. \n",
    "\n",
    "Instead of sticking to the bare minimum, I challenged myself to implement concepts from class and exercise creativity. I ended up spending 12+ hours on this game, and genuinely enjoyed the process of coding this project.."
   ]
  }
 ],
 "metadata": {
  "kernelspec": {
   "display_name": "Python 3 (ipykernel)",
   "language": "python",
   "name": "python3"
  },
  "language_info": {
   "codemirror_mode": {
    "name": "ipython",
    "version": 3
   },
   "file_extension": ".py",
   "mimetype": "text/x-python",
   "name": "python",
   "nbconvert_exporter": "python",
   "pygments_lexer": "ipython3",
   "version": "3.12.2"
  }
 },
 "nbformat": 4,
 "nbformat_minor": 2
}
